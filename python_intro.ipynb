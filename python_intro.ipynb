{
 "cells": [
  {
   "cell_type": "markdown",
   "metadata": {},
   "source": [
    "# INTRO TO PYTHON"
   ]
  },
  {
   "cell_type": "markdown",
   "metadata": {},
   "source": [
    "Python is one of the most popular programming languages for data science, machine learning and artificial intelligence."
   ]
  },
  {
   "cell_type": "markdown",
   "metadata": {},
   "source": [
    "## ARITHMETIC AND VARIABLES"
   ]
  },
  {
   "cell_type": "markdown",
   "metadata": {},
   "source": [
    "### Printing"
   ]
  },
  {
   "cell_type": "markdown",
   "metadata": {},
   "source": [
    "In Python, we ask a computer to print a message for us by writing print() and putting the message inside the parentheses and enclosed in quotation marks."
   ]
  },
  {
   "cell_type": "code",
   "execution_count": 1,
   "metadata": {},
   "outputs": [
    {
     "name": "stdout",
     "output_type": "stream",
     "text": [
      "Hello world\n"
     ]
    }
   ],
   "source": [
    "print(\"Hello world\")"
   ]
  },
  {
   "cell_type": "markdown",
   "metadata": {},
   "source": [
    "### Arithmetic"
   ]
  },
  {
   "cell_type": "markdown",
   "metadata": {},
   "source": [
    "We can also print the value of some arithmetic operation (such as addition, subtraction, multiplication, or division).\n",
    "\n",
    "Note that unlike when we were simply printing text, we don't use any quotation marks."
   ]
  },
  {
   "cell_type": "code",
   "execution_count": 2,
   "metadata": {},
   "outputs": [
    {
     "name": "stdout",
     "output_type": "stream",
     "text": [
      "3\n"
     ]
    }
   ],
   "source": [
    "print(1 + 2)"
   ]
  },
  {
   "cell_type": "markdown",
   "metadata": {},
   "source": [
    "You can actually do a lot of calculations with python! See the table below for some examples.\n",
    "\n",
    "| Operation\t        | Symbol    | Example       |\n",
    "|-------------------|-----------|---------------|\n",
    "| Addition\t        | +\t        | 1 + 2 = 3     |\n",
    "| Subtraction\t    | -\t        | 5 - 4 = 1     |\n",
    "| Multiplication    | *\t        | 2 * 4 = 8     |\n",
    "| Division\t        | /\t        | 6 / 3 = 2     |\n",
    "| Exponent\t        | **\t    | 3 ** 2 = 9    |\n"
   ]
  },
  {
   "cell_type": "markdown",
   "metadata": {},
   "source": [
    "You can control the order of operations in long calculations with parentheses."
   ]
  },
  {
   "cell_type": "code",
   "execution_count": 3,
   "metadata": {},
   "outputs": [
    {
     "name": "stdout",
     "output_type": "stream",
     "text": [
      "196.0\n"
     ]
    }
   ],
   "source": [
    "print(((1 + 3) * (9 - 2) / 2) ** 2)"
   ]
  },
  {
   "cell_type": "markdown",
   "metadata": {},
   "source": [
    "In general, Python follows the PEMDAS rule when deciding the order of operations."
   ]
  },
  {
   "cell_type": "markdown",
   "metadata": {},
   "source": [
    "### Comments"
   ]
  },
  {
   "cell_type": "markdown",
   "metadata": {},
   "source": [
    "We use comments to annotate what code is doing. They help other people to understand your code, and they can also be helpful if you haven't looked at your own code in a while. \n",
    "\n",
    "To indicate to Python that a line is comment (and not Python code), you need to write a pound sign (#) as the very first character.\n",
    "\n",
    "Once Python sees the pound sign and recognizes that the line is a comment, it is completely ignored by the computer."
   ]
  },
  {
   "cell_type": "code",
   "execution_count": 7,
   "metadata": {},
   "outputs": [
    {
     "name": "stdout",
     "output_type": "stream",
     "text": [
      "6\n"
     ]
    }
   ],
   "source": [
    "# Multiply 3 by 2\n",
    "print(3 * 2)"
   ]
  },
  {
   "cell_type": "markdown",
   "metadata": {},
   "source": [
    "### Variables"
   ]
  },
  {
   "cell_type": "markdown",
   "metadata": {},
   "source": [
    "#### Creating variables"
   ]
  },
  {
   "cell_type": "markdown",
   "metadata": {},
   "source": [
    "In general, to work with a variable, you need to begin by selecting the name you want to use. They need to satisfy several requirements:\n",
    "- They can't have spaces\n",
    "- They can only include letters, numbers, and underscores\n",
    "- They have to start with a letter or underscore\n",
    "\n",
    "Then, to create the variable, you need to use = to assign the value that you want it to have.\n",
    "You can always take a look at the value assigned to the variable by using print() and putting the name of the variable in parentheses."
   ]
  },
  {
   "cell_type": "code",
   "execution_count": 4,
   "metadata": {},
   "outputs": [
    {
     "name": "stdout",
     "output_type": "stream",
     "text": [
      "9\n"
     ]
    }
   ],
   "source": [
    "# Create a variable called test_var and give it a value of 4+5\n",
    "test_var = 4 + 5\n",
    "\n",
    "# Print the value of test_var\n",
    "print(test_var)"
   ]
  },
  {
   "cell_type": "markdown",
   "metadata": {},
   "source": [
    "#### Manipulating variables"
   ]
  },
  {
   "cell_type": "markdown",
   "metadata": {},
   "source": [
    "You can always change the value assigned to a variable by overriding the previous value."
   ]
  },
  {
   "cell_type": "code",
   "execution_count": 6,
   "metadata": {},
   "outputs": [
    {
     "name": "stdout",
     "output_type": "stream",
     "text": [
      "3\n",
      "100\n"
     ]
    }
   ],
   "source": [
    "# Set the value of a new variable to 3\n",
    "my_var = 3\n",
    "\n",
    "# Print the value assigned to my_var\n",
    "print(my_var)\n",
    "\n",
    "# Change the value of the variable to 100\n",
    "my_var = 100\n",
    "\n",
    "# Print the new value assigned to my_var\n",
    "print(my_var)"
   ]
  },
  {
   "cell_type": "markdown",
   "metadata": {},
   "source": [
    "Note that in general, whenever you define a variable in a code cell, all of the code cells that follow also have access to the variable."
   ]
  },
  {
   "cell_type": "markdown",
   "metadata": {},
   "source": [
    "The next code cell tells Python to increase the current value of my_var by 3.\n",
    "\n",
    "To do this, we still need to use my_var = like before. And also just like before, the new value we want to assign to the variable is to the right of the = sign."
   ]
  },
  {
   "cell_type": "code",
   "execution_count": 8,
   "metadata": {},
   "outputs": [
    {
     "name": "stdout",
     "output_type": "stream",
     "text": [
      "103\n"
     ]
    }
   ],
   "source": [
    "# Increase the value by 3\n",
    "my_var = my_var + 3\n",
    "\n",
    "# Print the value assigned to my_var\n",
    "print(my_var)"
   ]
  }
 ],
 "metadata": {
  "kernelspec": {
   "display_name": "Python 3",
   "language": "python",
   "name": "python3"
  },
  "language_info": {
   "codemirror_mode": {
    "name": "ipython",
    "version": 3
   },
   "file_extension": ".py",
   "mimetype": "text/x-python",
   "name": "python",
   "nbconvert_exporter": "python",
   "pygments_lexer": "ipython3",
   "version": "3.12.1"
  }
 },
 "nbformat": 4,
 "nbformat_minor": 2
}
